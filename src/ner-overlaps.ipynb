{
 "cells": [
  {
   "cell_type": "markdown",
   "metadata": {},
   "source": [
    "# Goals\n",
    "\n",
    "To uncover the interplay between NER annotations and coref annotations. Specifically can finding NER directly lead to an estimation of num of clusters, do they all act as an antecedent?\n",
    "\n",
    "# Specifics\n",
    "\n",
    "1. Try to find num. mentions per coref cluster\n",
    "2. Try to coalasce NER mentions (within one coref cluster) into one 'entity' and re-do this exp.\n",
    "3. Try to do this coalasce thing globally within one document."
   ]
  },
  {
   "cell_type": "code",
   "execution_count": 1,
   "metadata": {},
   "outputs": [],
   "source": [
    "# Imports\n",
    "import spacy\n",
    "import numpy as np\n",
    "from thefuzz import fuzz\n",
    "from pprint import pprint\n",
    "from copy import deepcopy\n",
    "from tqdm.auto import tqdm\n",
    "from spacy.tokens import Doc\n",
    "from collections import Counter\n",
    "from typing import List, Tuple, Dict, Union\n",
    "from scipy.stats import norm\n",
    "\n",
    "\n",
    "from utils.misc import pop\n",
    "from utils.data import Document\n",
    "from dataloader import DataLoader\n",
    "from utils.nlp import to_toks, remove_pos, NullTokenizer, is_nchunk\n"
   ]
  },
  {
   "cell_type": "code",
   "execution_count": 2,
   "metadata": {},
   "outputs": [],
   "source": [
    "import matplotlib.pyplot as plt\n",
    "import numpy as np\n",
    "from matplotlib import colors\n",
    "from matplotlib.ticker import PercentFormatter"
   ]
  },
  {
   "cell_type": "code",
   "execution_count": 3,
   "metadata": {},
   "outputs": [],
   "source": [
    "from analysis.ne_coref import *"
   ]
  },
  {
   "cell_type": "code",
   "execution_count": 4,
   "metadata": {},
   "outputs": [],
   "source": [
    "summary = {}\n",
    "nlp = spacy.load('en_core_web_sm')\n",
    "# This tokenizer DOES not tokenize documents.\n",
    "# Use this is the document is already tokenized.\n",
    "nlp.tokenizer = NullTokenizer(nlp.vocab)\n",
    "dl = DataLoader('ontonotes', 'train', ignore_empty_coref=True)"
   ]
  },
  {
   "cell_type": "code",
   "execution_count": 5,
   "metadata": {
    "scrolled": true
   },
   "outputs": [
    {
     "data": {
      "application/vnd.jupyter.widget-view+json": {
       "model_id": "665e58f6b88c416ab6790b0016b7478b",
       "version_major": 2,
       "version_minor": 0
      },
      "text/plain": [
       "HBox(children=(FloatProgress(value=0.0, max=2775.0), HTML(value='')))"
      ]
     },
     "metadata": {},
     "output_type": "display_data"
    },
    {
     "name": "stdout",
     "output_type": "stream",
     "text": [
      "\n"
     ]
    }
   ],
   "source": [
    "summary['ignored_instances'] = 0\n",
    "summary['num_instances'] = len(dl)\n",
    "summary['clusters_per_doc'] = []\n",
    "summary['elements_per_cluster'] = []\n",
    "summary['named_entities_per_doc'] = []\n",
    "summary['named_entities_per_tag'] = []\n",
    "\n",
    "summary['named_entities_unmatched_per_doc'] = []\n",
    "summary['clusters_unmatched_per_doc'] = []\n",
    "summary['clusters_matched_per_doc'] = []\n",
    "ignored = 0\n",
    "\n",
    "for i, doc in enumerate(tqdm(dl)):\n",
    "\n",
    "    if not doc.named_entities_gold:\n",
    "        summary['ignored_instances'] += 1\n",
    "        continue\n",
    "\n",
    "    # Get the spacy doc object for this one. It will be needed. Trust me.\n",
    "    # noinspection PyTypeChecker\n",
    "    spacy_doc = nlp(to_toks(doc.document))\n",
    "\n",
    "    # Find statistics on the number of elements per cluster\n",
    "    cardinalities = count_cluster_cardinality(doc)\n",
    "    summary['elements_per_cluster'] += cardinalities\n",
    "\n",
    "    # Find statistics on the number of coref clusters in one document\n",
    "    summary['clusters_per_doc'].append(count_doc_n_clusters(doc))\n",
    "\n",
    "    # Find statistics on the number of named entities in a document\n",
    "    summary['named_entities_per_doc'].append(count_doc_n_entities(doc))\n",
    "\n",
    "    # Find statistics on the number of named entities per named entity tags\n",
    "    summary['named_entities_per_tag'] += count_tag_n_entities(doc)\n",
    "\n",
    "    matches, n_unmatched = match_entities_to_coref_clusters(doc, spacy_doc)\n",
    "    unmatched_clusters = [k for k, v in matches.items() if not v]\n",
    "    matched_clusters = [k for k, v in matches.items() if v]\n",
    "    summary['named_entities_unmatched_per_doc'].append(n_unmatched)\n",
    "\n",
    "    summary['clusters_unmatched_per_doc'].append(len(unmatched_clusters))\n",
    "    summary['clusters_matched_per_doc'].append(len(matched_clusters))"
   ]
  },
  {
   "cell_type": "markdown",
   "metadata": {},
   "source": [
    "# Plotting Time"
   ]
  },
  {
   "cell_type": "code",
   "execution_count": 69,
   "metadata": {
    "code_folding": []
   },
   "outputs": [],
   "source": [
    "def fancy_plot(data: list, bins=None, xlabel: str= None, ylabel: str = None, plot_gauss: bool = True):\n",
    "    \"\"\" \n",
    "        Assumes data is a list of integers \n",
    "        If not, it would create a key and \"encode\" every element with an integer.\n",
    "    \"\"\"\n",
    "    \n",
    "    vocab = {}\n",
    "    freq = Counter(data)\n",
    "    if type(data[0]) is not int:\n",
    "        \n",
    "        # We can also sort these things by the freq with which they appear\n",
    "        freq = Counter(data)\n",
    "            \n",
    "        freq = dict(sorted(freq.items(), key=lambda kv: - kv[1]))\n",
    "        vocab = {k: i for i, k in enumerate(freq.keys())}\n",
    "        data = deepcopy(data)\n",
    "        \n",
    "        for i, datum in enumerate(data):\n",
    "            data[i] = vocab[datum]\n",
    "            \n",
    "    \n",
    "    bins = bins if bins else max(data)\n",
    "    \n",
    "#     fig = plt.figure(figsize=(6,4))\n",
    "#     fig.set_dpi(150.0)\n",
    "#     plt.hist(data, bins=bins, density=True, alpha=0.6, color='b') #, x='Clusters in One Document', y='Frequency')\n",
    "\n",
    "    fig = plt.figure(figsize=(6,4))\n",
    "    fig.set_dpi(150.0)\n",
    "\n",
    "    ax = fig.add_subplot(111, label=\"Hist\")\n",
    "    ax2 = fig.add_subplot(111, label=\"Mean\", frame_on=False)\n",
    "    ax.hist(data, bins=bins, density=True, alpha=0.6, color='b')\n",
    "    \n",
    "        \n",
    "    if plot_gauss:\n",
    "        mean, std = norm.fit(data)\n",
    "        xmin, xmax = 0, max(data)\n",
    "        x = np.linspace(xmin, xmax, bins*5)\n",
    "        p = norm.pdf(x, mean, std)\n",
    "        \n",
    "        ax2.plot(x, p, 'k', linewidth=2)\n",
    "        ax2.set_xticks([])\n",
    "        ax2.set_yticks([])\n",
    "    \n",
    "    if xlabel:\n",
    "        ax.set_xlabel(xlabel)\n",
    "    \n",
    "    if ylabel:\n",
    "        ax.set_ylabel(ylabel)\n",
    "        \n",
    "    ax.tick_params(axis='x', colors=\"blue\")\n",
    "    ax.tick_params(axis='y', colors=\"blue\")\n",
    "    \n",
    "    if vocab:\n",
    "        plt.xticks(ticks=range(len(vocab)), labels=vocab.keys(), rotation=90, fontsize=8, color='green')\n",
    "\n",
    "        \n",
    "    plt.show()\n",
    "    "
   ]
  },
  {
   "cell_type": "markdown",
   "metadata": {},
   "source": [
    "# Cluster Distribution\n",
    "In the first plot, we a distribution of number of coreference clusters in a document. This should give us an idea of how long tailed the distribution is, and how much memory do we aim to allocate per document."
   ]
  },
  {
   "cell_type": "code",
   "execution_count": 70,
   "metadata": {},
   "outputs": [
    {
     "data": {
      "image/png": "[encoded data removed]",
      "text/plain": [
       "<Figure size 900x600 with 2 Axes>"
      ]
     },
     "metadata": {
      "needs_background": "light"
     },
     "output_type": "display_data"
    }
   ],
   "source": [
    "fancy_plot(summary['clusters_per_doc'],\n",
    "    xlabel=\"Number of clusters in ONE document\",\n",
    "    ylabel=\"Number of such documents.\")"
   ]
  },
  {
   "cell_type": "markdown",
   "metadata": {},
   "source": [
    "# Scratchpad"
   ]
  },
  {
   "cell_type": "code",
   "execution_count": null,
   "metadata": {},
   "outputs": [],
   "source": [
    "data = deepcopy(summary['clusters_per_doc'])\n",
    "bins = None\n",
    "xlabel: str = None\n",
    "ylabel: str = None\n",
    "plot_gauss: bool = True"
   ]
  },
  {
   "cell_type": "code",
   "execution_count": null,
   "metadata": {},
   "outputs": [],
   "source": [
    "vocab = {}\n",
    "freq = Counter(data)\n",
    "if type(data[0]) is not int:\n",
    "\n",
    "    # We can also sort these things by the freq with which they appear\n",
    "    freq = Counter(data)\n",
    "\n",
    "    freq = dict(sorted(freq.items(), key=lambda kv: - kv[1]))\n",
    "    vocab = {k: i for i, k in enumerate(freq.keys())}\n",
    "    data = deepcopy(data)\n",
    "\n",
    "    for i, datum in enumerate(data):\n",
    "        data[i] = vocab[datum]\n",
    "\n",
    "\n",
    "bins = bins if bins else max(data)\n",
    "\n",
    "fig = plt.figure(figsize=(6,4))\n",
    "fig.set_dpi(150.0)\n",
    "\n",
    "ax = fig.add_subplot(111, label=\"Hist\")\n",
    "ax2 = fig.add_subplot(111, label=\"2\", frame_on=False)\n",
    "ax.hist(data, bins=bins, density=True, alpha=0.6, color='b')\n",
    "plt.show()\n",
    "\n"
   ]
  },
  {
   "cell_type": "code",
   "execution_count": null,
   "metadata": {},
   "outputs": [],
   "source": []
  }
 ],
 "metadata": {
  "kernelspec": {
   "display_name": "Python 3",
   "language": "python",
   "name": "python3"
  },
  "language_info": {
   "codemirror_mode": {
    "name": "ipython",
    "version": 3
   },
   "file_extension": ".py",
   "mimetype": "text/x-python",
   "name": "python",
   "nbconvert_exporter": "python",
   "pygments_lexer": "ipython3",
   "version": "3.8.5"
  }
 },
 "nbformat": 4,
 "nbformat_minor": 4
}
