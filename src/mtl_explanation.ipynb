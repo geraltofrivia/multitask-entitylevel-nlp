{
 "cells": [
  {
   "cell_type": "code",
   "execution_count": 1,
   "metadata": {},
   "outputs": [],
   "source": [
    "# MTL\n",
    "import torch\n",
    "import torch.nn as nn\n",
    "import numpy"
   ]
  },
  {
   "cell_type": "code",
   "execution_count": 2,
   "metadata": {},
   "outputs": [],
   "source": [
    "class color:\n",
    "   PURPLE = '\\033[95m'\n",
    "   CYAN = '\\033[96m'\n",
    "   DARKCYAN = '\\033[36m'\n",
    "   BLUE = '\\033[94m'\n",
    "   GREEN = '\\033[92m'\n",
    "   YELLOW = '\\033[93m'\n",
    "   RED = '\\033[91m'\n",
    "   BOLD = '\\033[1m'\n",
    "   UNDERLINE = '\\033[4m'\n",
    "   END = '\\033[0m'"
   ]
  },
  {
   "cell_type": "code",
   "execution_count": 3,
   "metadata": {},
   "outputs": [],
   "source": [
    "def print_grad_tree(fn, prefix = ''):\n",
    "    print(prefix, fn)\n",
    "    for child in fn.next_functions:\n",
    "        print_grad_tree(child[0], prefix + '    ')"
   ]
  },
  {
   "cell_type": "code",
   "execution_count": 4,
   "metadata": {},
   "outputs": [],
   "source": [
    "class MTL(nn.Module):\n",
    "    \n",
    "    def __init__(self):\n",
    "        super().__init__()\n",
    "        self.shared = nn.Embedding(4, 2, _weight=torch.tensor(\n",
    "            [[0.2, 0.1], \n",
    "             [0.3, 0.4], \n",
    "             [0.5, 0.6], \n",
    "             [0.7, 0.8]], requires_grad=True))\n",
    "        self.t1 = nn.Linear(2, 1, bias=False)\n",
    "        self.t2 = nn.Linear(2, 1, bias=False)   \n",
    "        \n",
    "        self.t1.weight.data = torch.tensor([0.5, 0.5], dtype=torch.float32, requires_grad=True)\n",
    "        self.t2.weight.data = torch.tensor([0.2, 0.2], dtype=torch.float32, requires_grad=True)\n",
    "\n",
    "    def forward(self, x):\n",
    "        \n",
    "        enc = self.shared(x)\n",
    "        y1 = self.t1(enc)\n",
    "        y2 = self.t2(enc)\n",
    "        \n",
    "        return enc, y1, y2\n",
    "    \n",
    "    def print(self):\n",
    "        print('shared')\n",
    "        print(self.shared.weight)\n",
    "        print('t1')\n",
    "        print(self.t1.weight)\n",
    "        print('t2')\n",
    "        print(self.t2.weight)"
   ]
  },
  {
   "cell_type": "code",
   "execution_count": 5,
   "metadata": {
    "scrolled": true
   },
   "outputs": [
    {
     "name": "stdout",
     "output_type": "stream",
     "text": [
      "shared\n",
      "Parameter containing:\n",
      "tensor([[0.2000, 0.1000],\n",
      "        [0.3000, 0.4000],\n",
      "        [0.5000, 0.6000],\n",
      "        [0.7000, 0.8000]], requires_grad=True)\n",
      "t1\n",
      "Parameter containing:\n",
      "tensor([0.5000, 0.5000], requires_grad=True)\n",
      "t2\n",
      "Parameter containing:\n",
      "tensor([0.2000, 0.2000], requires_grad=True)\n"
     ]
    }
   ],
   "source": [
    "m = MTL()\n",
    "m.print()"
   ]
  },
  {
   "cell_type": "code",
   "execution_count": 6,
   "metadata": {},
   "outputs": [],
   "source": [
    "x = torch.randint(0, 4, (1,))\n",
    "# y1gold\n",
    "enc, y1, y2 = m(x)"
   ]
  },
  {
   "cell_type": "markdown",
   "metadata": {},
   "source": [
    "# Grad Trees"
   ]
  },
  {
   "cell_type": "code",
   "execution_count": 7,
   "metadata": {},
   "outputs": [
    {
     "name": "stdout",
     "output_type": "stream",
     "text": [
      "\u001b[1my1 tree\u001b[0m\n",
      "\u001b[1my1\u001b[0m <MvBackward0 object at 0x7fbf7be352b0>\n",
      "\u001b[1my1\u001b[0m     <EmbeddingBackward0 object at 0x7fbf7be35640>\n",
      "\u001b[1my1\u001b[0m         <AccumulateGrad object at 0x7fbf7be35880>\n",
      "\u001b[1my1\u001b[0m     <TBackward0 object at 0x7fbf7be356a0>\n",
      "\u001b[1my1\u001b[0m         <AccumulateGrad object at 0x7fbf7be35bb0>\n",
      "\u001b[1my1 tree\u001b[0m\n",
      "\u001b[1my2 tree\u001b[0m\n",
      "\u001b[1my2\u001b[0m <MvBackward0 object at 0x7fbf7be35bb0>\n",
      "\u001b[1my2\u001b[0m     <EmbeddingBackward0 object at 0x7fbf7be35fa0>\n",
      "\u001b[1my2\u001b[0m         <AccumulateGrad object at 0x7fbf7be32190>\n",
      "\u001b[1my2\u001b[0m     <TBackward0 object at 0x7fbf7be35fd0>\n",
      "\u001b[1my2\u001b[0m         <AccumulateGrad object at 0x7fbf7be32490>\n",
      "\u001b[1my2 tree\u001b[0m\n",
      "\u001b[1mshared tree\u001b[0m\n",
      "\u001b[1mshared\u001b[0m <EmbeddingBackward0 object at 0x7fbf7be32490>\n",
      "\u001b[1mshared\u001b[0m     <AccumulateGrad object at 0x7fbf7be32880>\n",
      "\u001b[1mshared tree\u001b[0m\n"
     ]
    }
   ],
   "source": [
    "# See grads of y1\n",
    "print(color.BOLD + 'y1 tree' + color.END)\n",
    "print_grad_tree(y1.grad_fn, color.BOLD + 'y1' + color.END)\n",
    "print(color.BOLD + 'y1 tree' + color.END)\n",
    "print(color.BOLD + 'y2 tree' + color.END)\n",
    "print_grad_tree(y2.grad_fn, color.BOLD + 'y2' + color.END)\n",
    "print(color.BOLD + 'y2 tree' + color.END)\n",
    "\n",
    "print(color.BOLD + 'shared tree' + color.END)\n",
    "print_grad_tree(enc.grad_fn, color.BOLD + 'shared' + color.END)\n",
    "print(color.BOLD + 'shared tree' + color.END)"
   ]
  },
  {
   "cell_type": "markdown",
   "metadata": {},
   "source": [
    "# Check if model is deterministic"
   ]
  },
  {
   "cell_type": "code",
   "execution_count": 8,
   "metadata": {},
   "outputs": [
    {
     "name": "stdout",
     "output_type": "stream",
     "text": [
      "shared\n",
      "Parameter containing:\n",
      "tensor([[0.2000, 0.1000],\n",
      "        [0.3000, 0.4000],\n",
      "        [0.5000, 0.6000],\n",
      "        [0.7000, 0.8000]], requires_grad=True)\n",
      "t1\n",
      "Parameter containing:\n",
      "tensor([0.5000, 0.5000], requires_grad=True)\n",
      "t2\n",
      "Parameter containing:\n",
      "tensor([0.2000, 0.2000], requires_grad=True)\n",
      "\n",
      "\n",
      "\n",
      "OUTPUTS:\n",
      "tensor([[0.7000, 0.8000]], grad_fn=<EmbeddingBackward0>) tensor([0.7500], grad_fn=<MvBackward0>) tensor([0.3000], grad_fn=<MvBackward0>)\n"
     ]
    }
   ],
   "source": [
    "#### Round 1\n",
    "m1 = MTL()\n",
    "m1.print()\n",
    "x = torch.tensor([3])\n",
    "enc, y1, y2 = m1(x)\n",
    "print('\\n\\n\\nOUTPUTS:')\n",
    "print(enc, y1, y2)"
   ]
  },
  {
   "cell_type": "code",
   "execution_count": 9,
   "metadata": {},
   "outputs": [
    {
     "name": "stdout",
     "output_type": "stream",
     "text": [
      "shared\n",
      "Parameter containing:\n",
      "tensor([[0.2000, 0.1000],\n",
      "        [0.3000, 0.4000],\n",
      "        [0.5000, 0.6000],\n",
      "        [0.7000, 0.8000]], requires_grad=True)\n",
      "t1\n",
      "Parameter containing:\n",
      "tensor([0.5000, 0.5000], requires_grad=True)\n",
      "t2\n",
      "Parameter containing:\n",
      "tensor([0.2000, 0.2000], requires_grad=True)\n",
      "\n",
      "\n",
      "\n",
      "OUTPUTS:\n",
      "tensor([[0.7000, 0.8000]], grad_fn=<EmbeddingBackward0>) tensor([0.7500], grad_fn=<MvBackward0>) tensor([0.3000], grad_fn=<MvBackward0>)\n"
     ]
    }
   ],
   "source": [
    "#### Round 2\n",
    "m1 = MTL()\n",
    "m1.print()\n",
    "x = torch.tensor([3])\n",
    "enc, y1, y2 = m1(x)\n",
    "print('\\n\\n\\nOUTPUTS:')\n",
    "print(enc, y1, y2)"
   ]
  },
  {
   "cell_type": "markdown",
   "metadata": {},
   "source": [
    "#### As you can see, there is no randomness in the output if we give the same input"
   ]
  },
  {
   "cell_type": "markdown",
   "metadata": {},
   "source": [
    "# Back Prop Effect"
   ]
  },
  {
   "cell_type": "code",
   "execution_count": 10,
   "metadata": {},
   "outputs": [],
   "source": [
    "m1 = MTL()\n",
    "m2 = MTL()\n",
    "\n",
    "x1 = torch.tensor([3])\n",
    "x2 = torch.tensor([3])\n",
    "\n",
    "y1gold_1 = torch.tensor([10.0,])\n",
    "y2gold_1 = torch.tensor([5.0,])\n",
    "\n",
    "y1gold_2 = torch.tensor([10.0,])\n",
    "y2gold_2 = torch.tensor([5.0,])\n",
    "\n",
    "mse = nn.MSELoss()\n"
   ]
  },
  {
   "cell_type": "code",
   "execution_count": 11,
   "metadata": {},
   "outputs": [
    {
     "data": {
      "text/plain": [
       "(tensor([0.7500], grad_fn=<MvBackward0>),\n",
       " tensor([0.3000], grad_fn=<MvBackward0>),\n",
       " tensor([0.7500], grad_fn=<MvBackward0>),\n",
       " tensor([0.3000], grad_fn=<MvBackward0>))"
      ]
     },
     "execution_count": 11,
     "metadata": {},
     "output_type": "execute_result"
    }
   ],
   "source": [
    "enc_1, y1_1, y2_1 = m1(x1)\n",
    "enc_2, y1_2, y2_2 = m2(x2)\n",
    "\n",
    "\n",
    "y1_1, y2_1, y1_2, y2_2"
   ]
  },
  {
   "cell_type": "code",
   "execution_count": 13,
   "metadata": {},
   "outputs": [
    {
     "name": "stdout",
     "output_type": "stream",
     "text": [
      "tensor(85.5625, grad_fn=<MseLossBackward0>) tensor(22.0900, grad_fn=<MseLossBackward0>)\n"
     ]
    }
   ],
   "source": [
    "# Now let's see what happens to the parameters of the Linear layer t2 when we just use L2 to calculate the gradients\n",
    "l1_1 = mse(y1_1, y1gold_1)\n",
    "l2_1 = mse(y2_1, y2gold_1)\n",
    "print(l1_1, l2_1)"
   ]
  },
  {
   "cell_type": "code",
   "execution_count": 15,
   "metadata": {},
   "outputs": [
    {
     "name": "stdout",
     "output_type": "stream",
     "text": [
      "tensor(85.5625, grad_fn=<MseLossBackward0>) tensor(22.0900, grad_fn=<MseLossBackward0>)\n"
     ]
    }
   ],
   "source": [
    "l1_2 = mse(y1_2, y1gold_2)\n",
    "l2_2 = mse(y2_2, y2gold_2)\n",
    "print(l1_2, l2_2)"
   ]
  },
  {
   "cell_type": "code",
   "execution_count": 16,
   "metadata": {},
   "outputs": [
    {
     "data": {
      "text/plain": [
       "(None,\n",
       " tensor([-6.5800, -7.5200]),\n",
       " tensor([[ 0.0000,  0.0000],\n",
       "         [ 0.0000,  0.0000],\n",
       "         [ 0.0000,  0.0000],\n",
       "         [-1.8800, -1.8800]]))"
      ]
     },
     "execution_count": 16,
     "metadata": {},
     "output_type": "execute_result"
    }
   ],
   "source": [
    "\n",
    "l2_1.backward()\n",
    "m1.t1.weight.grad, m1.t2.weight.grad, m1.shared.weight.grad"
   ]
  },
  {
   "cell_type": "code",
   "execution_count": 17,
   "metadata": {},
   "outputs": [
    {
     "data": {
      "text/plain": [
       "(tensor([-12.9500, -14.8000]),\n",
       " tensor([-6.5800, -7.5200]),\n",
       " tensor([[  0.0000,   0.0000],\n",
       "         [  0.0000,   0.0000],\n",
       "         [  0.0000,   0.0000],\n",
       "         [-11.1300, -11.1300]]))"
      ]
     },
     "execution_count": 17,
     "metadata": {},
     "output_type": "execute_result"
    }
   ],
   "source": [
    "\n",
    "\n",
    "l = l1_2 + l2_2\n",
    "# print(l1, l2, l)\n",
    "l.backward()\n",
    "m2.t1.weight.grad, m2.t2.weight.grad, m2.shared.weight.grad"
   ]
  },
  {
   "cell_type": "code",
   "execution_count": null,
   "metadata": {},
   "outputs": [],
   "source": [
    "y1.grad_fn.next_functions[1][0].next_functions"
   ]
  },
  {
   "cell_type": "code",
   "execution_count": null,
   "metadata": {},
   "outputs": [],
   "source": []
  }
 ],
 "metadata": {
  "kernelspec": {
   "display_name": "Python 3",
   "language": "python",
   "name": "python3"
  },
  "language_info": {
   "codemirror_mode": {
    "name": "ipython",
    "version": 3
   },
   "file_extension": ".py",
   "mimetype": "text/x-python",
   "name": "python",
   "nbconvert_exporter": "python",
   "pygments_lexer": "ipython3",
   "version": "3.8.5"
  }
 },
 "nbformat": 4,
 "nbformat_minor": 4
}
